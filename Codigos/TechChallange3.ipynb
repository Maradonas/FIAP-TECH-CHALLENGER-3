{
 "cells": [
  {
   "cell_type": "markdown",
   "id": "89d6ca84",
   "metadata": {},
   "source": [
    "#### **Fundamentos de Bancos de Dados Relacionais e NoSQL**"
   ]
  },
  {
   "cell_type": "markdown",
   "id": "dd59115f",
   "metadata": {},
   "source": [
    "#### **Conteúdo - Bases e Notebook da aula**\n",
    "\n",
    "https://github.com/FIAP/Pos_Tech_DTAT/tree/main/Fase%203"
   ]
  },
  {
   "cell_type": "markdown",
   "id": "a770d68e",
   "metadata": {},
   "source": [
    "#### **Importação de pacotes, bibliotecas e funções (def)**"
   ]
  },
  {
   "cell_type": "code",
   "execution_count": 2,
   "id": "23ccd403",
   "metadata": {},
   "outputs": [
    {
     "name": "stdout",
     "output_type": "stream",
     "text": [
      "Found existing installation: botocore 1.40.26\n",
      "Uninstalling botocore-1.40.26:\n",
      "  Successfully uninstalled botocore-1.40.26\n"
     ]
    }
   ],
   "source": [
    "#!pip uninstall boto3 -y\n",
    "!pip uninstall botocore -y\n",
    "# !pip install boto3==1.40.26 \n",
    "# !pip install botocore==1.40.26\n",
    "# # !pip install s3fs\n",
    "\n"
   ]
  },
  {
   "cell_type": "code",
   "execution_count": 3,
   "id": "48bccaa8",
   "metadata": {},
   "outputs": [
    {
     "name": "stdout",
     "output_type": "stream",
     "text": [
      "Collecting botocore==1.40.26\n",
      "  Using cached botocore-1.40.26-py3-none-any.whl.metadata (5.7 kB)\n",
      "Requirement already satisfied: jmespath<2.0.0,>=0.7.1 in c:\\users\\dmaradini\\appdata\\local\\anaconda3\\lib\\site-packages (from botocore==1.40.26) (1.0.1)\n",
      "Requirement already satisfied: python-dateutil<3.0.0,>=2.1 in c:\\users\\dmaradini\\appdata\\local\\anaconda3\\lib\\site-packages (from botocore==1.40.26) (2.9.0.post0)\n",
      "Requirement already satisfied: urllib3!=2.2.0,<3,>=1.25.4 in c:\\users\\dmaradini\\appdata\\local\\anaconda3\\lib\\site-packages (from botocore==1.40.26) (2.2.3)\n",
      "Requirement already satisfied: six>=1.5 in c:\\users\\dmaradini\\appdata\\local\\anaconda3\\lib\\site-packages (from python-dateutil<3.0.0,>=2.1->botocore==1.40.26) (1.16.0)\n",
      "Using cached botocore-1.40.26-py3-none-any.whl (14.0 MB)\n",
      "Installing collected packages: botocore\n",
      "Successfully installed botocore-1.40.26\n"
     ]
    },
    {
     "name": "stderr",
     "output_type": "stream",
     "text": [
      "ERROR: pip's dependency resolver does not currently take into account all the packages that are installed. This behaviour is the source of the following dependency conflicts.\n",
      "aiobotocore 2.12.3 requires botocore<1.34.70,>=1.34.41, but you have botocore 1.40.26 which is incompatible.\n"
     ]
    }
   ],
   "source": [
    "#!pip install boto3==1.40.26 \n",
    "!pip install botocore==1.40.26"
   ]
  },
  {
   "cell_type": "code",
   "execution_count": 4,
   "id": "691abc68",
   "metadata": {},
   "outputs": [
    {
     "name": "stdout",
     "output_type": "stream",
     "text": [
      "boto3: 1.40.26\n",
      "botocore: 1.40.26\n"
     ]
    }
   ],
   "source": [
    "import boto3, botocore\n",
    "print(\"boto3:\", boto3.__version__)\n",
    "print(\"botocore:\", botocore.__version__)\n"
   ]
  },
  {
   "cell_type": "code",
   "execution_count": 5,
   "id": "ad5ca788",
   "metadata": {},
   "outputs": [],
   "source": [
    "# Importar biblioteca completa\n",
    "import boto3\n",
    "import pandas as pd\n",
    "import os\n",
    "import plotly.express as px\n",
    "import requests\n",
    "import botocore\n",
    "import psycopg2\n",
    "import numpy as np\n",
    "import duckdb\n",
    "import mongomock\n",
    "import fakeredis\n",
    "import uuid\n",
    "import json\n",
    "\n",
    "# Importar função especifica de um módulo\n",
    "from botocore.exceptions import BotoCoreError, ClientError\n",
    "from sqlalchemy import create_engine, text, inspect\n",
    "from dotenv import load_dotenv\n",
    "from io import StringIO\n",
    "from datetime import datetime\n",
    "from pprint import pprint\n",
    "from astrapy import DataAPIClient\n",
    "# from cassandra.cluster import Cluster\n",
    "# from cassandra.auth import PlainTextAuthProvider"
   ]
  },
  {
   "cell_type": "markdown",
   "id": "680f092b",
   "metadata": {},
   "source": [
    "#### **Testar conexão AWS via Python**"
   ]
  },
  {
   "cell_type": "code",
   "execution_count": 6,
   "id": "02baef19",
   "metadata": {},
   "outputs": [
    {
     "name": "stdout",
     "output_type": "stream",
     "text": [
      "✅ Conectado à conta\n",
      "\n",
      "UserId: AROAZI2LFHB2TERRDYNA4:user4377774=maradinidiego16@gmail.com\n",
      "Account: 637423401077\n",
      "Arn: arn:aws:sts::637423401077:assumed-role/voclabs/user4377774=maradinidiego16@gmail.com\n"
     ]
    }
   ],
   "source": [
    "# Validar conexão\n",
    "try:\n",
    "    session = boto3.Session(profile_name=\"default\")\n",
    "    sts = session.client(\"sts\")\n",
    "    identity = sts.get_caller_identity()\n",
    "    print(\"✅ Conectado à conta\\n\")\n",
    "    print(\"UserId:\", identity[\"UserId\"])\n",
    "    print(\"Account:\", identity[\"Account\"])\n",
    "    print(\"Arn:\", identity[\"Arn\"])\n",
    "\n",
    "except (BotoCoreError, ClientError) as e:\n",
    "    print(\"❌ Erro ao conectar à AWS. Verifique suas credenciais e tente novamente.\")\n",
    "    print(\"Detalhes do erro:\", e)\n"
   ]
  },
  {
   "cell_type": "markdown",
   "id": "83d94c24",
   "metadata": {},
   "source": [
    "##### **Conectar ao PostgreSQL via RDS + Executar Comandos SQL**"
   ]
  },
  {
   "cell_type": "code",
   "execution_count": 7,
   "id": "1c30e3e2",
   "metadata": {},
   "outputs": [
    {
     "name": "stdout",
     "output_type": "stream",
     "text": [
      "Note: you may need to restart the kernel to use updated packages.\n"
     ]
    },
    {
     "name": "stderr",
     "output_type": "stream",
     "text": [
      "ERROR: Could not find a version that satisfies the requirement StringIO (from versions: none)\n",
      "ERROR: No matching distribution found for StringIO\n"
     ]
    }
   ],
   "source": [
    "%pip install StringIO"
   ]
  },
  {
   "cell_type": "code",
   "execution_count": 8,
   "id": "2cc352e3",
   "metadata": {},
   "outputs": [
    {
     "name": "stderr",
     "output_type": "stream",
     "text": [
      "<>:1: SyntaxWarning: invalid escape sequence '\\d'\n",
      "<>:1: SyntaxWarning: invalid escape sequence '\\d'\n",
      "C:\\Users\\dmaradini\\AppData\\Local\\Temp\\ipykernel_20136\\2708774549.py:1: SyntaxWarning: invalid escape sequence '\\d'\n",
      "  load_dotenv(\"Users\\dmaradini\\.aws\\credentials\")\n"
     ]
    }
   ],
   "source": [
    "\n",
    "load_dotenv(\"Users\\dmaradini\\.aws\\credentials\")\n",
    "\n",
    "aws_access_key_id       = os.getenv(\"aws_access_key_id\")\n",
    "aws_secret_access_key   = os.getenv(\"aws_secret_access_key\")\n",
    "aws_session_token       = os.getenv(\"aws_session_token\")  "
   ]
  },
  {
   "cell_type": "code",
   "execution_count": 10,
   "id": "00071434",
   "metadata": {},
   "outputs": [
    {
     "name": "stdout",
     "output_type": "stream",
     "text": [
      "Conexão estabelecida.\n",
      "Bucket 'techchallange-637423401077' não existe, criando...\n",
      "\n",
      "Bucket 'techchallange-637423401077' criado com sucesso.\n",
      "\n"
     ]
    }
   ],
   "source": [
    "import pandas as pd\n",
    "import boto3\n",
    "import numpy as npfrp\n",
    "from datetime import datetime\n",
    "from io import StringIO\n",
    "from botocore.exceptions import ClientError\n",
    "\n",
    "\n",
    "session = boto3.Session(\n",
    "    aws_access_key_id       =   aws_access_key_id\n",
    "    ,aws_secret_access_key  =   aws_secret_access_key\n",
    "    ,aws_session_token      =   aws_session_token\n",
    ")\n",
    "\n",
    "\n",
    "\n",
    "bucket_name = \"techchallange-637423401077\"\n",
    "s3_prefix = \"raw\"\n",
    "\n",
    "\n",
    "\n",
    "print(\"Conexão estabelecida.\")\n",
    "\n",
    "s3 = session.client('s3')\n",
    "region = s3.meta.region_name or \"us-east-1\"\n",
    "\n",
    "try:\n",
    "    s3.head_bucket(Bucket=bucket_name)\n",
    "    print(f\"Bucket '{bucket_name}' já existe e está acessível.\")\n",
    "except ClientError as e:\n",
    "    error_code = e.response['Error']['Code']\n",
    "    if error_code in (\"404\", \"NoSuchBucket\"):\n",
    "        print(f\"Bucket '{bucket_name}' não existe, criando...\\n\")\n",
    "        if region == \"us-east-1\":\n",
    "            s3.create_bucket(Bucket=bucket_name)\n",
    "            \n",
    "        else:\n",
    "            s3.create_bucket(\n",
    "                Bucket=bucket_name,\n",
    "                CreateBucketConfiguration={'LocationConstraint': region}\n",
    "            )\n",
    "        print(f\"Bucket '{bucket_name}' criado com sucesso.\\n\")\n",
    "    else:\n",
    "        print(f\"Erro ao acessar o bucket: {e}\")\n",
    "        raise\n"
   ]
  },
  {
   "cell_type": "code",
   "execution_count": 35,
   "id": "28b14473",
   "metadata": {},
   "outputs": [
    {
     "name": "stdout",
     "output_type": "stream",
     "text": [
      "Processando PNAD_COVID_052020...\n",
      "PNAD_COVID_052020 salva no S3 em s3://techchallange-637423401077/raw/PNAD_COVID_072020.csv\n",
      "PNAD_COVID_052020 salva no S3 em s3://techchallange-637423401077/raw/PNAD_COVID_052020.csv\n",
      "Processando PNAD_COVID_062020...\n",
      "PNAD_COVID_062020 salva no S3 em s3://techchallange-637423401077/raw/PNAD_COVID_052020.csv\n",
      "PNAD_COVID_062020 salva no S3 em s3://techchallange-637423401077/raw/PNAD_COVID_062020.csv\n",
      "Processando PNAD_COVID_072020...\n",
      "PNAD_COVID_072020 salva no S3 em s3://techchallange-637423401077/raw/PNAD_COVID_062020.csv\n",
      "PNAD_COVID_072020 salva no S3 em s3://techchallange-637423401077/raw/PNAD_COVID_072020.csv\n",
      "Processando Dicionario_PNAD_COVID_052020...\n",
      "Dicionario_PNAD_COVID_052020 salva no S3 em s3://techchallange-637423401077/raw/PNAD_COVID_072020.csv\n",
      "Dicionario_PNAD_COVID_052020 salva no S3 em s3://techchallange-637423401077/raw/Dicionario_PNAD_COVID_052020.csv\n",
      "Processando Dicionario_PNAD_COVID_062020...\n",
      "Dicionario_PNAD_COVID_062020 salva no S3 em s3://techchallange-637423401077/raw/Dicionario_PNAD_COVID_052020.csv\n",
      "Dicionario_PNAD_COVID_062020 salva no S3 em s3://techchallange-637423401077/raw/Dicionario_PNAD_COVID_062020.csv\n",
      "Processando Dicionario_PNAD_COVID_072020...\n",
      "Dicionario_PNAD_COVID_072020 salva no S3 em s3://techchallange-637423401077/raw/Dicionario_PNAD_COVID_062020.csv\n",
      "Dicionario_PNAD_COVID_072020 salva no S3 em s3://techchallange-637423401077/raw/Dicionario_PNAD_COVID_072020.csv\n",
      "Exportação concluída com sucesso.\n"
     ]
    }
   ],
   "source": [
    "import pandas as pd\n",
    "import boto3\n",
    "from io import BytesIO, StringIO\n",
    "from zipfile import ZipFile\n",
    "import requests\n",
    "\n",
    "bucket_name = \"techchallange-637423401077\"\n",
    "s3_prefix = \"raw\"\n",
    "\n",
    "\n",
    "s3 = boto3.client(\"s3\")  # assume que suas credenciais AWS estão no ambiente\n",
    "\n",
    "# URLs dos arquivos zipados do IBGE\n",
    "urls = {\n",
    "    \"PNAD_COVID_052020\": \"https://ftp.ibge.gov.br/Trabalho_e_Rendimento/Pesquisa_Nacional_por_Amostra_de_Domicilios_PNAD_COVID19/Microdados/Dados/PNAD_COVID_052020.zip\"\n",
    "    ,\"PNAD_COVID_062020\": \"https://ftp.ibge.gov.br/Trabalho_e_Rendimento/Pesquisa_Nacional_por_Amostra_de_Domicilios_PNAD_COVID19/Microdados/Dados/PNAD_COVID_062020.zip\"\n",
    "    ,\"PNAD_COVID_072020\": \"https://ftp.ibge.gov.br/Trabalho_e_Rendimento/Pesquisa_Nacional_por_Amostra_de_Domicilios_PNAD_COVID19/Microdados/Dados/PNAD_COVID_072020.zip\"\n",
    "    ,\"Dicionario_PNAD_COVID_052020\":\"https://ftp.ibge.gov.br/Trabalho_e_Rendimento/Pesquisa_Nacional_por_Amostra_de_Domicilios_PNAD_COVID19/Microdados/Documentacao/Dicionario_PNAD_COVID_052020_20220621.xls\"\n",
    "    ,\"Dicionario_PNAD_COVID_062020\":\"https://ftp.ibge.gov.br/Trabalho_e_Rendimento/Pesquisa_Nacional_por_Amostra_de_Domicilios_PNAD_COVID19/Microdados/Documentacao/Dicionario_PNAD_COVID_062020_20220621.xls\"\n",
    "    ,\"Dicionario_PNAD_COVID_072020\":\"https://ftp.ibge.gov.br/Trabalho_e_Rendimento/Pesquisa_Nacional_por_Amostra_de_Domicilios_PNAD_COVID19/Microdados/Documentacao/Dicionario_PNAD_COVID_072020_20220621.xls\"\n",
    "}\n",
    "\n",
    "for tabela, url in urls.items():\n",
    "    print(f\"Processando {tabela}...\")\n",
    "\n",
    "    # Baixar o arquivo zip\n",
    "    r = requests.get(url)\n",
    "    r.raise_for_status()\n",
    "\n",
    "    # Ler o CSV dentro do ZIP\n",
    "    with ZipFile(BytesIO(r.content)) as z:\n",
    "        # Assumindo que tem apenas 1 CSV dentro do zip\n",
    "        csv_name = z.namelist()[0]\n",
    "        with z.open(csv_name) as f:\n",
    "            df = pd.read_csv(f, sep=';', encoding='latin1')  # ajuste separador e encoding\n",
    "\n",
    "    print(f\"{tabela} salva no S3 em s3://{bucket_name}/{s3_key}\")\n",
    "    # Exportar para S3\n",
    "    csv_buffer = StringIO()\n",
    "    df.to_csv(csv_buffer, index=False)\n",
    "    s3_key = f\"{s3_prefix}/{tabela}.csv\"\n",
    "\n",
    "    s3.put_object(\n",
    "        Bucket=bucket_name,\n",
    "        Key=s3_key,\n",
    "        Body=csv_buffer.getvalue()\n",
    "    )\n",
    "\n",
    "    print(f\"{tabela} salva no S3 em s3://{bucket_name}/{s3_key}\")\n",
    "\n",
    "print(\"Exportação concluída com sucesso.\")\n"
   ]
  },
  {
   "cell_type": "code",
   "execution_count": 36,
   "id": "a90a04a6",
   "metadata": {},
   "outputs": [
    {
     "name": "stdout",
     "output_type": "stream",
     "text": [
      "Consegui conectar no S3!\n"
     ]
    }
   ],
   "source": [
    "import boto3\n",
    "\n",
    "session = boto3.Session(profile_name=\"default\")\n",
    "s3 = session.client(\"s3\")\n",
    "print(\"Consegui conectar no S3!\")\n"
   ]
  },
  {
   "cell_type": "code",
   "execution_count": null,
   "id": "b7cc3e6a",
   "metadata": {},
   "outputs": [
    {
     "name": "stdout",
     "output_type": "stream",
     "text": [
      "Requirement already satisfied: s3fs in c:\\users\\dmaradini\\appdata\\local\\anaconda3\\lib\\site-packages (2024.6.1)\n",
      "Requirement already satisfied: aiobotocore<3.0.0,>=2.5.4 in c:\\users\\dmaradini\\appdata\\local\\anaconda3\\lib\\site-packages (from s3fs) (2.12.3)\n",
      "Requirement already satisfied: fsspec==2024.6.1.* in c:\\users\\dmaradini\\appdata\\local\\anaconda3\\lib\\site-packages (from s3fs) (2024.6.1)\n",
      "Requirement already satisfied: aiohttp!=4.0.0a0,!=4.0.0a1 in c:\\users\\dmaradini\\appdata\\local\\anaconda3\\lib\\site-packages (from s3fs) (3.10.5)\n",
      "Collecting botocore<1.34.70,>=1.34.41 (from aiobotocore<3.0.0,>=2.5.4->s3fs)\n",
      "  Using cached botocore-1.34.69-py3-none-any.whl.metadata (5.7 kB)\n",
      "Requirement already satisfied: wrapt<2.0.0,>=1.10.10 in c:\\users\\dmaradini\\appdata\\local\\anaconda3\\lib\\site-packages (from aiobotocore<3.0.0,>=2.5.4->s3fs) (1.14.1)\n",
      "Requirement already satisfied: aioitertools<1.0.0,>=0.5.1 in c:\\users\\dmaradini\\appdata\\local\\anaconda3\\lib\\site-packages (from aiobotocore<3.0.0,>=2.5.4->s3fs) (0.7.1)\n",
      "Requirement already satisfied: aiohappyeyeballs>=2.3.0 in c:\\users\\dmaradini\\appdata\\local\\anaconda3\\lib\\site-packages (from aiohttp!=4.0.0a0,!=4.0.0a1->s3fs) (2.4.0)\n",
      "Requirement already satisfied: aiosignal>=1.1.2 in c:\\users\\dmaradini\\appdata\\local\\anaconda3\\lib\\site-packages (from aiohttp!=4.0.0a0,!=4.0.0a1->s3fs) (1.2.0)\n",
      "Requirement already satisfied: attrs>=17.3.0 in c:\\users\\dmaradini\\appdata\\local\\anaconda3\\lib\\site-packages (from aiohttp!=4.0.0a0,!=4.0.0a1->s3fs) (23.1.0)\n",
      "Requirement already satisfied: frozenlist>=1.1.1 in c:\\users\\dmaradini\\appdata\\local\\anaconda3\\lib\\site-packages (from aiohttp!=4.0.0a0,!=4.0.0a1->s3fs) (1.4.0)\n",
      "Requirement already satisfied: multidict<7.0,>=4.5 in c:\\users\\dmaradini\\appdata\\local\\anaconda3\\lib\\site-packages (from aiohttp!=4.0.0a0,!=4.0.0a1->s3fs) (6.0.4)\n",
      "Requirement already satisfied: yarl<2.0,>=1.0 in c:\\users\\dmaradini\\appdata\\local\\anaconda3\\lib\\site-packages (from aiohttp!=4.0.0a0,!=4.0.0a1->s3fs) (1.11.0)\n",
      "Requirement already satisfied: typing_extensions>=3.7 in c:\\users\\dmaradini\\appdata\\local\\anaconda3\\lib\\site-packages (from aioitertools<1.0.0,>=0.5.1->aiobotocore<3.0.0,>=2.5.4->s3fs) (4.11.0)\n",
      "Requirement already satisfied: jmespath<2.0.0,>=0.7.1 in c:\\users\\dmaradini\\appdata\\local\\anaconda3\\lib\\site-packages (from botocore<1.34.70,>=1.34.41->aiobotocore<3.0.0,>=2.5.4->s3fs) (1.0.1)\n",
      "Requirement already satisfied: python-dateutil<3.0.0,>=2.1 in c:\\users\\dmaradini\\appdata\\local\\anaconda3\\lib\\site-packages (from botocore<1.34.70,>=1.34.41->aiobotocore<3.0.0,>=2.5.4->s3fs) (2.9.0.post0)\n",
      "Requirement already satisfied: urllib3!=2.2.0,<3,>=1.25.4 in c:\\users\\dmaradini\\appdata\\local\\anaconda3\\lib\\site-packages (from botocore<1.34.70,>=1.34.41->aiobotocore<3.0.0,>=2.5.4->s3fs) (2.2.3)\n",
      "Requirement already satisfied: idna>=2.0 in c:\\users\\dmaradini\\appdata\\local\\anaconda3\\lib\\site-packages (from yarl<2.0,>=1.0->aiohttp!=4.0.0a0,!=4.0.0a1->s3fs) (3.7)\n",
      "Requirement already satisfied: six>=1.5 in c:\\users\\dmaradini\\appdata\\local\\anaconda3\\lib\\site-packages (from python-dateutil<3.0.0,>=2.1->botocore<1.34.70,>=1.34.41->aiobotocore<3.0.0,>=2.5.4->s3fs) (1.16.0)\n",
      "Using cached botocore-1.34.69-py3-none-any.whl (12.0 MB)\n",
      "Installing collected packages: botocore\n",
      "  Attempting uninstall: botocore\n",
      "    Found existing installation: botocore 1.40.26\n",
      "    Uninstalling botocore-1.40.26:\n",
      "      Successfully uninstalled botocore-1.40.26\n",
      "Successfully installed botocore-1.34.69\n"
     ]
    },
    {
     "name": "stderr",
     "output_type": "stream",
     "text": [
      "ERROR: pip's dependency resolver does not currently take into account all the packages that are installed. This behaviour is the source of the following dependency conflicts.\n",
      "boto3 1.40.26 requires botocore<1.41.0,>=1.40.26, but you have botocore 1.34.69 which is incompatible.\n",
      "s3transfer 0.13.1 requires botocore<2.0a.0,>=1.37.4, but you have botocore 1.34.69 which is incompatible.\n"
     ]
    }
   ],
   "source": [
    "!pip install s3fs\n"
   ]
  },
  {
   "cell_type": "code",
   "execution_count": null,
   "id": "00f0a24e",
   "metadata": {},
   "outputs": [],
   "source": [
    "import pandas as pd\n",
    "from io import StringIO\n",
    "\n",
    "RAW_PREFIX      = 'https://aula-data-lake-637423401077.s3.us-east-1.amazonaws.com/raw/'\n",
    "SILVER_PREFIX   = 's3://aula-data-lake-637423401077/silver/'\n",
    "GOLD_PREFIX     = 's3://aula-data-lake-637423401077/gold/'\n",
    "\n",
    "\n",
    "tabelas = [\"dim_cliente\", \"dim_produto\", \"fato_pedidos\"]\n",
    "\n",
    "clientes = pd.read_csv(RAW_PREFIX + 'dim_cliente.csv')\n",
    "produtos = pd.read_csv(RAW_PREFIX + 'dim_produto.csv')\n",
    "pedidos  = pd.read_csv(RAW_PREFIX + 'fato_pedidos.csv')\n",
    "\n",
    "\n",
    "\n",
    "#1 .Silver layer: Leitura e limpeza dos Dados\n",
    "\n",
    "for df in [clientes,produtos,pedidos]:\n",
    "    df.columns = [col.lower() for col in df.columns]\n",
    "\n",
    "\n",
    "#Limpeza básica \n",
    "\n",
    "clientes = clientes.drop_duplicates().dropna(subset=['id_cliente'])\n",
    "produtos = produtos.drop_duplicates().dropna(subset=['id_produto'])\n",
    "pedidos  = pedidos.drop_duplicates().dropna(subset=['id_pedido','id_cliente','id_produto'])\n",
    "\n",
    "\n",
    "# Padronização das datas\n",
    "if 'data_pedido' in pedidos.columns:\n",
    "    pedidos['data_pedido'] = pd.to_datetime(pedidos['data_pedido'],errors='coerce')\n",
    "\n",
    "#Salva na camada silver em parquet no S3\n",
    "\n",
    "clientes.to_parquet(SILVER_PREFIX + 'clientes/',index=False)\n",
    "produtos.to_parquet(SILVER_PREFIX + 'produtos/',index=False)\n",
    "pedidos.to_parquet(SILVER_PREFIX  + 'pedidos/',index=False)"
   ]
  },
  {
   "cell_type": "code",
   "execution_count": null,
   "id": "d730fa1f",
   "metadata": {},
   "outputs": [],
   "source": [
    "pedidos_clientes = pd.merge(\n",
    "    pedidos,\n",
    "    clientes,\n",
    "    on=\"id_cliente\",\n",
    "    how=\"inner\"      \n",
    ")"
   ]
  },
  {
   "cell_type": "code",
   "execution_count": null,
   "id": "2dc86542",
   "metadata": {},
   "outputs": [],
   "source": [
    "pedidos_clientes_produtos = pd.merge(\n",
    "    pedidos_clientes,\n",
    "    produtos,\n",
    "    on=\"id_produto\",\n",
    "    how=\"inner\"\n",
    ")\n",
    "\n",
    "pedidos_ordenado = pedidos_clientes_produtos.sort_values(\"data_pedido\",ascending=True)\n"
   ]
  },
  {
   "cell_type": "code",
   "execution_count": null,
   "id": "ad6785f1",
   "metadata": {},
   "outputs": [
    {
     "data": {
      "text/html": [
       "<div>\n",
       "<style scoped>\n",
       "    .dataframe tbody tr th:only-of-type {\n",
       "        vertical-align: middle;\n",
       "    }\n",
       "\n",
       "    .dataframe tbody tr th {\n",
       "        vertical-align: top;\n",
       "    }\n",
       "\n",
       "    .dataframe thead th {\n",
       "        text-align: right;\n",
       "    }\n",
       "</style>\n",
       "<table border=\"1\" class=\"dataframe\">\n",
       "  <thead>\n",
       "    <tr style=\"text-align: right;\">\n",
       "      <th></th>\n",
       "      <th>nome</th>\n",
       "      <th>data_pedido</th>\n",
       "      <th>quantidade</th>\n",
       "      <th>valor_total</th>\n",
       "      <th>nome_produto</th>\n",
       "      <th>preco</th>\n",
       "    </tr>\n",
       "  </thead>\n",
       "  <tbody>\n",
       "    <tr>\n",
       "      <th>0</th>\n",
       "      <td>Luigi Porto</td>\n",
       "      <td>2024-12-02</td>\n",
       "      <td>5</td>\n",
       "      <td>2992.85</td>\n",
       "      <td>Ratione Ad</td>\n",
       "      <td>972.17</td>\n",
       "    </tr>\n",
       "    <tr>\n",
       "      <th>2</th>\n",
       "      <td>Luigi Porto</td>\n",
       "      <td>2025-01-27</td>\n",
       "      <td>3</td>\n",
       "      <td>2806.08</td>\n",
       "      <td>Delectus Vel</td>\n",
       "      <td>786.77</td>\n",
       "    </tr>\n",
       "    <tr>\n",
       "      <th>4</th>\n",
       "      <td>Ana Clara Nascimento</td>\n",
       "      <td>2024-07-20</td>\n",
       "      <td>3</td>\n",
       "      <td>1387.95</td>\n",
       "      <td>Doloribus Culpa</td>\n",
       "      <td>997.35</td>\n",
       "    </tr>\n",
       "    <tr>\n",
       "      <th>5</th>\n",
       "      <td>Bianca Fernandes</td>\n",
       "      <td>2025-03-02</td>\n",
       "      <td>1</td>\n",
       "      <td>463.70</td>\n",
       "      <td>Quo Culpa</td>\n",
       "      <td>220.50</td>\n",
       "    </tr>\n",
       "    <tr>\n",
       "      <th>6</th>\n",
       "      <td>Luigi Porto</td>\n",
       "      <td>2024-08-21</td>\n",
       "      <td>1</td>\n",
       "      <td>542.26</td>\n",
       "      <td>Ipsam Eum</td>\n",
       "      <td>254.16</td>\n",
       "    </tr>\n",
       "    <tr>\n",
       "      <th>...</th>\n",
       "      <td>...</td>\n",
       "      <td>...</td>\n",
       "      <td>...</td>\n",
       "      <td>...</td>\n",
       "      <td>...</td>\n",
       "      <td>...</td>\n",
       "    </tr>\n",
       "    <tr>\n",
       "      <th>91</th>\n",
       "      <td>Francisco Rezende</td>\n",
       "      <td>2025-04-24</td>\n",
       "      <td>1</td>\n",
       "      <td>950.12</td>\n",
       "      <td>Sunt Voluptas</td>\n",
       "      <td>807.00</td>\n",
       "    </tr>\n",
       "    <tr>\n",
       "      <th>92</th>\n",
       "      <td>Lucas Nascimento</td>\n",
       "      <td>2025-02-05</td>\n",
       "      <td>5</td>\n",
       "      <td>804.30</td>\n",
       "      <td>Quis At</td>\n",
       "      <td>227.42</td>\n",
       "    </tr>\n",
       "    <tr>\n",
       "      <th>93</th>\n",
       "      <td>Srta. Ana Carolina Ferreira</td>\n",
       "      <td>2024-11-15</td>\n",
       "      <td>1</td>\n",
       "      <td>568.33</td>\n",
       "      <td>Fugiat Omnis</td>\n",
       "      <td>236.65</td>\n",
       "    </tr>\n",
       "    <tr>\n",
       "      <th>96</th>\n",
       "      <td>Isis da Mata</td>\n",
       "      <td>2025-03-15</td>\n",
       "      <td>2</td>\n",
       "      <td>1930.14</td>\n",
       "      <td>Ducimus Molestias</td>\n",
       "      <td>434.15</td>\n",
       "    </tr>\n",
       "    <tr>\n",
       "      <th>99</th>\n",
       "      <td>Isis da Mata</td>\n",
       "      <td>2025-02-07</td>\n",
       "      <td>1</td>\n",
       "      <td>596.18</td>\n",
       "      <td>Officiis Sint</td>\n",
       "      <td>683.48</td>\n",
       "    </tr>\n",
       "  </tbody>\n",
       "</table>\n",
       "<p>68 rows × 6 columns</p>\n",
       "</div>"
      ],
      "text/plain": [
       "                           nome data_pedido  quantidade  valor_total  \\\n",
       "0                   Luigi Porto  2024-12-02           5      2992.85   \n",
       "2                   Luigi Porto  2025-01-27           3      2806.08   \n",
       "4          Ana Clara Nascimento  2024-07-20           3      1387.95   \n",
       "5              Bianca Fernandes  2025-03-02           1       463.70   \n",
       "6                   Luigi Porto  2024-08-21           1       542.26   \n",
       "..                          ...         ...         ...          ...   \n",
       "91            Francisco Rezende  2025-04-24           1       950.12   \n",
       "92             Lucas Nascimento  2025-02-05           5       804.30   \n",
       "93  Srta. Ana Carolina Ferreira  2024-11-15           1       568.33   \n",
       "96                 Isis da Mata  2025-03-15           2      1930.14   \n",
       "99                 Isis da Mata  2025-02-07           1       596.18   \n",
       "\n",
       "         nome_produto   preco  \n",
       "0          Ratione Ad  972.17  \n",
       "2        Delectus Vel  786.77  \n",
       "4     Doloribus Culpa  997.35  \n",
       "5           Quo Culpa  220.50  \n",
       "6           Ipsam Eum  254.16  \n",
       "..                ...     ...  \n",
       "91      Sunt Voluptas  807.00  \n",
       "92            Quis At  227.42  \n",
       "93       Fugiat Omnis  236.65  \n",
       "96  Ducimus Molestias  434.15  \n",
       "99      Officiis Sint  683.48  \n",
       "\n",
       "[68 rows x 6 columns]"
      ]
     },
     "execution_count": 77,
     "metadata": {},
     "output_type": "execute_result"
    }
   ],
   "source": [
    "pedidos_clientes = pedidos_clientes_produtos[['nome','data_pedido','quantidade','valor_total','nome_produto','preco']]\n"
   ]
  },
  {
   "cell_type": "code",
   "execution_count": null,
   "id": "21f2963f",
   "metadata": {},
   "outputs": [],
   "source": [
    "pedidos_clientes.to_parquet(GOLD_PREFIX + 'pedidos_clientes/',index=False)"
   ]
  }
 ],
 "metadata": {
  "kernelspec": {
   "display_name": "base",
   "language": "python",
   "name": "python3"
  },
  "language_info": {
   "codemirror_mode": {
    "name": "ipython",
    "version": 3
   },
   "file_extension": ".py",
   "mimetype": "text/x-python",
   "name": "python",
   "nbconvert_exporter": "python",
   "pygments_lexer": "ipython3",
   "version": "3.12.7"
  }
 },
 "nbformat": 4,
 "nbformat_minor": 5
}
